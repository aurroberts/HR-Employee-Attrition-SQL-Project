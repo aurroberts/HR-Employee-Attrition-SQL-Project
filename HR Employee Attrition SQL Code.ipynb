{
    "metadata": {
        "kernelspec": {
            "name": "SQL",
            "display_name": "SQL",
            "language": "sql"
        },
        "language_info": {
            "name": "sql",
            "version": ""
        }
    },
    "nbformat_minor": 2,
    "nbformat": 4,
    "cells": [
        {
            "cell_type": "code",
            "source": [
                "--Overview of the dataset\r\n",
                "SELECT TOP 5 *\r\n",
                "FROM Attrition"
            ],
            "metadata": {
                "azdata_cell_guid": "7fff1c80-e6de-44a1-957d-1d724b6a7c25",
                "language": "sql",
                "tags": []
            },
            "outputs": [
                {
                    "output_type": "display_data",
                    "data": {
                        "text/html": "(5 rows affected)"
                    },
                    "metadata": {}
                },
                {
                    "output_type": "display_data",
                    "data": {
                        "text/html": "Total execution time: 00:00:00.011"
                    },
                    "metadata": {}
                },
                {
                    "output_type": "execute_result",
                    "metadata": {},
                    "execution_count": 1,
                    "data": {
                        "application/vnd.dataresource+json": {
                            "schema": {
                                "fields": [
                                    {
                                        "name": "Age"
                                    },
                                    {
                                        "name": "Attrition"
                                    },
                                    {
                                        "name": "BusinessTravel"
                                    },
                                    {
                                        "name": "DailyRate"
                                    },
                                    {
                                        "name": "Department"
                                    },
                                    {
                                        "name": "DistanceFromHome"
                                    },
                                    {
                                        "name": "Education"
                                    },
                                    {
                                        "name": "EducationField"
                                    },
                                    {
                                        "name": "EmployeeCount"
                                    },
                                    {
                                        "name": "EmployeeNumber"
                                    },
                                    {
                                        "name": "EnvironmentSatisfaction"
                                    },
                                    {
                                        "name": "Gender"
                                    },
                                    {
                                        "name": "HourlyRate"
                                    },
                                    {
                                        "name": "JobInvolvement"
                                    },
                                    {
                                        "name": "JobLevel"
                                    },
                                    {
                                        "name": "JobRole"
                                    },
                                    {
                                        "name": "JobSatisfaction"
                                    },
                                    {
                                        "name": "MaritalStatus"
                                    },
                                    {
                                        "name": "MonthlyIncome"
                                    },
                                    {
                                        "name": "MonthlyRate"
                                    },
                                    {
                                        "name": "NumCompaniesWorked"
                                    },
                                    {
                                        "name": "Over18"
                                    },
                                    {
                                        "name": "OverTime"
                                    },
                                    {
                                        "name": "PercentSalaryHike"
                                    },
                                    {
                                        "name": "PerformanceRating"
                                    },
                                    {
                                        "name": "RelationshipSatisfaction"
                                    },
                                    {
                                        "name": "StandardHours"
                                    },
                                    {
                                        "name": "StockOptionLevel"
                                    },
                                    {
                                        "name": "TotalWorkingYears"
                                    },
                                    {
                                        "name": "TrainingTimesLastYear"
                                    },
                                    {
                                        "name": "WorkLifeBalance"
                                    },
                                    {
                                        "name": "YearsAtCompany"
                                    },
                                    {
                                        "name": "YearsInCurrentRole"
                                    },
                                    {
                                        "name": "YearsSinceLastPromotion"
                                    },
                                    {
                                        "name": "YearsWithCurrManager"
                                    }
                                ]
                            },
                            "data": [
                                {
                                    "0": "41",
                                    "1": "Yes",
                                    "2": "Travel_Rarely",
                                    "3": "1102",
                                    "4": "Sales",
                                    "5": "1",
                                    "6": "2",
                                    "7": "Life Sciences",
                                    "8": "1",
                                    "9": "1",
                                    "10": "2",
                                    "11": "Female",
                                    "12": "94",
                                    "13": "3",
                                    "14": "2",
                                    "15": "Sales Executive",
                                    "16": "4",
                                    "17": "Single",
                                    "18": "5993",
                                    "19": "19479",
                                    "20": "8",
                                    "21": "Y",
                                    "22": "Yes",
                                    "23": "11",
                                    "24": "3",
                                    "25": "1",
                                    "26": "80",
                                    "27": "0",
                                    "28": "8",
                                    "29": "0",
                                    "30": "1",
                                    "31": "6",
                                    "32": "4",
                                    "33": "0",
                                    "34": "5"
                                },
                                {
                                    "0": "49",
                                    "1": "No",
                                    "2": "Travel_Frequently",
                                    "3": "279",
                                    "4": "Research & Development",
                                    "5": "8",
                                    "6": "1",
                                    "7": "Life Sciences",
                                    "8": "1",
                                    "9": "2",
                                    "10": "3",
                                    "11": "Male",
                                    "12": "61",
                                    "13": "2",
                                    "14": "2",
                                    "15": "Research Scientist",
                                    "16": "2",
                                    "17": "Married",
                                    "18": "5130",
                                    "19": "24907",
                                    "20": "1",
                                    "21": "Y",
                                    "22": "No",
                                    "23": "23",
                                    "24": "4",
                                    "25": "4",
                                    "26": "80",
                                    "27": "1",
                                    "28": "10",
                                    "29": "3",
                                    "30": "3",
                                    "31": "10",
                                    "32": "7",
                                    "33": "1",
                                    "34": "7"
                                },
                                {
                                    "0": "37",
                                    "1": "Yes",
                                    "2": "Travel_Rarely",
                                    "3": "1373",
                                    "4": "Research & Development",
                                    "5": "2",
                                    "6": "2",
                                    "7": "Other",
                                    "8": "1",
                                    "9": "4",
                                    "10": "4",
                                    "11": "Male",
                                    "12": "92",
                                    "13": "2",
                                    "14": "1",
                                    "15": "Laboratory Technician",
                                    "16": "3",
                                    "17": "Single",
                                    "18": "2090",
                                    "19": "2396",
                                    "20": "6",
                                    "21": "Y",
                                    "22": "Yes",
                                    "23": "15",
                                    "24": "3",
                                    "25": "2",
                                    "26": "80",
                                    "27": "0",
                                    "28": "7",
                                    "29": "3",
                                    "30": "3",
                                    "31": "0",
                                    "32": "0",
                                    "33": "0",
                                    "34": "0"
                                },
                                {
                                    "0": "33",
                                    "1": "No",
                                    "2": "Travel_Frequently",
                                    "3": "1392",
                                    "4": "Research & Development",
                                    "5": "3",
                                    "6": "4",
                                    "7": "Life Sciences",
                                    "8": "1",
                                    "9": "5",
                                    "10": "4",
                                    "11": "Female",
                                    "12": "56",
                                    "13": "3",
                                    "14": "1",
                                    "15": "Research Scientist",
                                    "16": "3",
                                    "17": "Married",
                                    "18": "2909",
                                    "19": "23159",
                                    "20": "1",
                                    "21": "Y",
                                    "22": "Yes",
                                    "23": "11",
                                    "24": "3",
                                    "25": "3",
                                    "26": "80",
                                    "27": "0",
                                    "28": "8",
                                    "29": "3",
                                    "30": "3",
                                    "31": "8",
                                    "32": "7",
                                    "33": "3",
                                    "34": "0"
                                },
                                {
                                    "0": "27",
                                    "1": "No",
                                    "2": "Travel_Rarely",
                                    "3": "591",
                                    "4": "Research & Development",
                                    "5": "2",
                                    "6": "1",
                                    "7": "Medical",
                                    "8": "1",
                                    "9": "7",
                                    "10": "1",
                                    "11": "Male",
                                    "12": "40",
                                    "13": "3",
                                    "14": "1",
                                    "15": "Laboratory Technician",
                                    "16": "2",
                                    "17": "Married",
                                    "18": "3468",
                                    "19": "16632",
                                    "20": "9",
                                    "21": "Y",
                                    "22": "No",
                                    "23": "12",
                                    "24": "3",
                                    "25": "4",
                                    "26": "80",
                                    "27": "1",
                                    "28": "6",
                                    "29": "3",
                                    "30": "3",
                                    "31": "2",
                                    "32": "2",
                                    "33": "2",
                                    "34": "2"
                                }
                            ]
                        },
                        "text/html": [
                            "<table>",
                            "<tr><th>Age</th><th>Attrition</th><th>BusinessTravel</th><th>DailyRate</th><th>Department</th><th>DistanceFromHome</th><th>Education</th><th>EducationField</th><th>EmployeeCount</th><th>EmployeeNumber</th><th>EnvironmentSatisfaction</th><th>Gender</th><th>HourlyRate</th><th>JobInvolvement</th><th>JobLevel</th><th>JobRole</th><th>JobSatisfaction</th><th>MaritalStatus</th><th>MonthlyIncome</th><th>MonthlyRate</th><th>NumCompaniesWorked</th><th>Over18</th><th>OverTime</th><th>PercentSalaryHike</th><th>PerformanceRating</th><th>RelationshipSatisfaction</th><th>StandardHours</th><th>StockOptionLevel</th><th>TotalWorkingYears</th><th>TrainingTimesLastYear</th><th>WorkLifeBalance</th><th>YearsAtCompany</th><th>YearsInCurrentRole</th><th>YearsSinceLastPromotion</th><th>YearsWithCurrManager</th></tr>",
                            "<tr><td>41</td><td>Yes</td><td>Travel_Rarely</td><td>1102</td><td>Sales</td><td>1</td><td>2</td><td>Life Sciences</td><td>1</td><td>1</td><td>2</td><td>Female</td><td>94</td><td>3</td><td>2</td><td>Sales Executive</td><td>4</td><td>Single</td><td>5993</td><td>19479</td><td>8</td><td>Y</td><td>Yes</td><td>11</td><td>3</td><td>1</td><td>80</td><td>0</td><td>8</td><td>0</td><td>1</td><td>6</td><td>4</td><td>0</td><td>5</td></tr>",
                            "<tr><td>49</td><td>No</td><td>Travel_Frequently</td><td>279</td><td>Research &amp; Development</td><td>8</td><td>1</td><td>Life Sciences</td><td>1</td><td>2</td><td>3</td><td>Male</td><td>61</td><td>2</td><td>2</td><td>Research Scientist</td><td>2</td><td>Married</td><td>5130</td><td>24907</td><td>1</td><td>Y</td><td>No</td><td>23</td><td>4</td><td>4</td><td>80</td><td>1</td><td>10</td><td>3</td><td>3</td><td>10</td><td>7</td><td>1</td><td>7</td></tr>",
                            "<tr><td>37</td><td>Yes</td><td>Travel_Rarely</td><td>1373</td><td>Research &amp; Development</td><td>2</td><td>2</td><td>Other</td><td>1</td><td>4</td><td>4</td><td>Male</td><td>92</td><td>2</td><td>1</td><td>Laboratory Technician</td><td>3</td><td>Single</td><td>2090</td><td>2396</td><td>6</td><td>Y</td><td>Yes</td><td>15</td><td>3</td><td>2</td><td>80</td><td>0</td><td>7</td><td>3</td><td>3</td><td>0</td><td>0</td><td>0</td><td>0</td></tr>",
                            "<tr><td>33</td><td>No</td><td>Travel_Frequently</td><td>1392</td><td>Research &amp; Development</td><td>3</td><td>4</td><td>Life Sciences</td><td>1</td><td>5</td><td>4</td><td>Female</td><td>56</td><td>3</td><td>1</td><td>Research Scientist</td><td>3</td><td>Married</td><td>2909</td><td>23159</td><td>1</td><td>Y</td><td>Yes</td><td>11</td><td>3</td><td>3</td><td>80</td><td>0</td><td>8</td><td>3</td><td>3</td><td>8</td><td>7</td><td>3</td><td>0</td></tr>",
                            "<tr><td>27</td><td>No</td><td>Travel_Rarely</td><td>591</td><td>Research &amp; Development</td><td>2</td><td>1</td><td>Medical</td><td>1</td><td>7</td><td>1</td><td>Male</td><td>40</td><td>3</td><td>1</td><td>Laboratory Technician</td><td>2</td><td>Married</td><td>3468</td><td>16632</td><td>9</td><td>Y</td><td>No</td><td>12</td><td>3</td><td>4</td><td>80</td><td>1</td><td>6</td><td>3</td><td>3</td><td>2</td><td>2</td><td>2</td><td>2</td></tr>",
                            "</table>"
                        ]
                    }
                }
            ],
            "execution_count": 1
        },
        {
            "cell_type": "code",
            "source": [
                "--What's the percent of attrition?\r\n",
                "SELECT\r\n",
                "\tattrition,\r\n",
                "\tCOUNT(attrition) * 100 / (SELECT COUNT(attrition) FROM Attrition) AS 'PERCENT'\r\n",
                "FROM Attrition\r\n",
                "GROUP BY attrition;"
            ],
            "metadata": {
                "language": "sql",
                "azdata_cell_guid": "f3f526b8-e07c-4158-a4bd-a2211654edb6"
            },
            "outputs": [
                {
                    "output_type": "display_data",
                    "data": {
                        "text/html": "(2 rows affected)"
                    },
                    "metadata": {}
                },
                {
                    "output_type": "display_data",
                    "data": {
                        "text/html": "Total execution time: 00:00:00.011"
                    },
                    "metadata": {}
                },
                {
                    "output_type": "execute_result",
                    "execution_count": 4,
                    "data": {
                        "application/vnd.dataresource+json": {
                            "schema": {
                                "fields": [
                                    {
                                        "name": "attrition"
                                    },
                                    {
                                        "name": "PERCENT"
                                    }
                                ]
                            },
                            "data": [
                                {
                                    "0": "Yes",
                                    "1": "16"
                                },
                                {
                                    "0": "No",
                                    "1": "83"
                                }
                            ]
                        },
                        "text/html": "<table><tr><th>attrition</th><th>PERCENT</th></tr><tr><td>Yes</td><td>16</td></tr><tr><td>No</td><td>83</td></tr></table>"
                    },
                    "metadata": {}
                }
            ],
            "execution_count": 4
        },
        {
            "cell_type": "code",
            "source": [
                "--Breakdown of the employees that left and their education level\r\n",
                "SELECT \r\n",
                "\teducation, \r\n",
                "\tCOUNT(education) AS Total_Count\r\n",
                "FROM Attrition\r\n",
                "WHERE attrition = 'Yes'\r\n",
                "GROUP BY education\r\n",
                "ORDER BY education;"
            ],
            "metadata": {
                "language": "sql",
                "azdata_cell_guid": "f2b8dc3d-bc19-46a6-a0dd-0532716b66d3"
            },
            "outputs": [
                {
                    "output_type": "display_data",
                    "data": {
                        "text/html": "(5 rows affected)"
                    },
                    "metadata": {}
                },
                {
                    "output_type": "display_data",
                    "data": {
                        "text/html": "Total execution time: 00:00:00.005"
                    },
                    "metadata": {}
                },
                {
                    "output_type": "execute_result",
                    "execution_count": 5,
                    "data": {
                        "application/vnd.dataresource+json": {
                            "schema": {
                                "fields": [
                                    {
                                        "name": "education"
                                    },
                                    {
                                        "name": "Total_Count"
                                    }
                                ]
                            },
                            "data": [
                                {
                                    "0": "1",
                                    "1": "31"
                                },
                                {
                                    "0": "2",
                                    "1": "44"
                                },
                                {
                                    "0": "3",
                                    "1": "99"
                                },
                                {
                                    "0": "4",
                                    "1": "58"
                                },
                                {
                                    "0": "5",
                                    "1": "5"
                                }
                            ]
                        },
                        "text/html": "<table><tr><th>education</th><th>Total_Count</th></tr><tr><td>1</td><td>31</td></tr><tr><td>2</td><td>44</td></tr><tr><td>3</td><td>99</td></tr><tr><td>4</td><td>58</td></tr><tr><td>5</td><td>5</td></tr></table>"
                    },
                    "metadata": {}
                }
            ],
            "execution_count": 5
        },
        {
            "cell_type": "code",
            "source": [
                "--Breakdown of attrition by education field\r\n",
                "SELECT\r\n",
                "\teducationfield,\r\n",
                "\tCOUNT(educationfield) AS 'Total_Count'\r\n",
                "FROM Attrition\r\n",
                "WHERE attrition = 'Yes'\r\n",
                "GROUP BY educationfield\r\n",
                "ORDER BY educationfield;"
            ],
            "metadata": {
                "language": "sql",
                "azdata_cell_guid": "a370bad0-26c4-4397-ac00-20f475eeb8cf"
            },
            "outputs": [
                {
                    "output_type": "display_data",
                    "data": {
                        "text/html": "(6 rows affected)"
                    },
                    "metadata": {}
                },
                {
                    "output_type": "display_data",
                    "data": {
                        "text/html": "Total execution time: 00:00:00.035"
                    },
                    "metadata": {}
                },
                {
                    "output_type": "execute_result",
                    "execution_count": 6,
                    "data": {
                        "application/vnd.dataresource+json": {
                            "schema": {
                                "fields": [
                                    {
                                        "name": "educationfield"
                                    },
                                    {
                                        "name": "Total_Count"
                                    }
                                ]
                            },
                            "data": [
                                {
                                    "0": "Human Resources",
                                    "1": "7"
                                },
                                {
                                    "0": "Life Sciences",
                                    "1": "89"
                                },
                                {
                                    "0": "Marketing",
                                    "1": "35"
                                },
                                {
                                    "0": "Medical",
                                    "1": "63"
                                },
                                {
                                    "0": "Other",
                                    "1": "11"
                                },
                                {
                                    "0": "Technical Degree",
                                    "1": "32"
                                }
                            ]
                        },
                        "text/html": "<table><tr><th>educationfield</th><th>Total_Count</th></tr><tr><td>Human Resources</td><td>7</td></tr><tr><td>Life Sciences</td><td>89</td></tr><tr><td>Marketing</td><td>35</td></tr><tr><td>Medical</td><td>63</td></tr><tr><td>Other</td><td>11</td></tr><tr><td>Technical Degree</td><td>32</td></tr></table>"
                    },
                    "metadata": {}
                }
            ],
            "execution_count": 6
        },
        {
            "cell_type": "code",
            "source": [
                "--What's the average working environment by job role for those who quit?\r\n",
                "--Need to convert data type to calculate average; environmentsatisfaction was in varchar(50).\r\n",
                "SELECT\r\n",
                "\tjobrole,\r\n",
                "\tAVG(CAST(environmentsatisfaction AS INT)) AS 'Average_Environment Satisfaction'\r\n",
                "FROM Attrition\r\n",
                "WHERE attrition = 'Yes'\r\n",
                "GROUP BY jobrole\r\n",
                "ORDER BY jobrole;"
            ],
            "metadata": {
                "language": "sql",
                "azdata_cell_guid": "12f5113d-f942-4ddf-96e0-928018ade8a1"
            },
            "outputs": [
                {
                    "output_type": "display_data",
                    "data": {
                        "text/html": "(9 rows affected)"
                    },
                    "metadata": {}
                },
                {
                    "output_type": "display_data",
                    "data": {
                        "text/html": "Total execution time: 00:00:00.011"
                    },
                    "metadata": {}
                },
                {
                    "output_type": "execute_result",
                    "metadata": {},
                    "execution_count": 5,
                    "data": {
                        "application/vnd.dataresource+json": {
                            "schema": {
                                "fields": [
                                    {
                                        "name": "jobrole"
                                    },
                                    {
                                        "name": "Average_Environment Satisfaction"
                                    }
                                ]
                            },
                            "data": [
                                {
                                    "0": "Healthcare Representative",
                                    "1": "2"
                                },
                                {
                                    "0": "Human Resources",
                                    "1": "2"
                                },
                                {
                                    "0": "Laboratory Technician",
                                    "1": "2"
                                },
                                {
                                    "0": "Manager",
                                    "1": "1"
                                },
                                {
                                    "0": "Manufacturing Director",
                                    "1": "2"
                                },
                                {
                                    "0": "Research Director",
                                    "1": "3"
                                },
                                {
                                    "0": "Research Scientist",
                                    "1": "2"
                                },
                                {
                                    "0": "Sales Executive",
                                    "1": "2"
                                },
                                {
                                    "0": "Sales Representative",
                                    "1": "2"
                                }
                            ]
                        },
                        "text/html": [
                            "<table>",
                            "<tr><th>jobrole</th><th>Average_Environment Satisfaction</th></tr>",
                            "<tr><td>Healthcare Representative</td><td>2</td></tr>",
                            "<tr><td>Human Resources</td><td>2</td></tr>",
                            "<tr><td>Laboratory Technician</td><td>2</td></tr>",
                            "<tr><td>Manager</td><td>1</td></tr>",
                            "<tr><td>Manufacturing Director</td><td>2</td></tr>",
                            "<tr><td>Research Director</td><td>3</td></tr>",
                            "<tr><td>Research Scientist</td><td>2</td></tr>",
                            "<tr><td>Sales Executive</td><td>2</td></tr>",
                            "<tr><td>Sales Representative</td><td>2</td></tr>",
                            "</table>"
                        ]
                    }
                }
            ],
            "execution_count": 5
        },
        {
            "cell_type": "code",
            "source": [
                "--What is the breakdown of distance from home by jobrole and attrition?\r\n",
                "SELECT\r\n",
                "\temployeenumber,\r\n",
                "\tjobrole,\r\n",
                "\tdistancefromhome\r\n",
                "FROM Attrition\r\n",
                "WHERE attrition = 'Yes'\r\n",
                "ORDER BY jobrole, distancefromhome DESC;"
            ],
            "metadata": {
                "language": "sql",
                "azdata_cell_guid": "1e9d1a39-af18-448d-b4b6-95018e2d41ef"
            },
            "outputs": [
                {
                    "output_type": "display_data",
                    "data": {
                        "text/html": "(237 rows affected)"
                    },
                    "metadata": {}
                },
                {
                    "output_type": "display_data",
                    "data": {
                        "text/html": "Total execution time: 00:00:00.013"
                    },
                    "metadata": {}
                },
                {
                    "output_type": "execute_result",
                    "execution_count": 8,
                    "data": {
                        "application/vnd.dataresource+json": {
                            "schema": {
                                "fields": [
                                    {
                                        "name": "employeenumber"
                                    },
                                    {
                                        "name": "jobrole"
                                    },
                                    {
                                        "name": "distancefromhome"
                                    }
                                ]
                            },
                            "data": [
                                {
                                    "0": "282",
                                    "1": "Healthcare Representative",
                                    "2": "29"
                                },
                                {
                                    "0": "1082",
                                    "1": "Healthcare Representative",
                                    "2": "24"
                                },
                                {
                                    "0": "165",
                                    "1": "Healthcare Representative",
                                    "2": "23"
                                },
                                {
                                    "0": "1821",
                                    "1": "Healthcare Representative",
                                    "2": "21"
                                },
                                {
                                    "0": "587",
                                    "1": "Healthcare Representative",
                                    "2": "20"
                                },
                                {
                                    "0": "1127",
                                    "1": "Healthcare Representative",
                                    "2": "2"
                                },
                                {
                                    "0": "1295",
                                    "1": "Healthcare Representative",
                                    "2": "15"
                                },
                                {
                                    "0": "1421",
                                    "1": "Healthcare Representative",
                                    "2": "14"
                                },
                                {
                                    "0": "1033",
                                    "1": "Healthcare Representative",
                                    "2": "11"
                                },
                                {
                                    "0": "1467",
                                    "1": "Human Resources",
                                    "2": "9"
                                },
                                {
                                    "0": "1747",
                                    "1": "Human Resources",
                                    "2": "8"
                                },
                                {
                                    "0": "133",
                                    "1": "Human Resources",
                                    "2": "6"
                                },
                                {
                                    "0": "590",
                                    "1": "Human Resources",
                                    "2": "23"
                                },
                                {
                                    "0": "1714",
                                    "1": "Human Resources",
                                    "2": "22"
                                },
                                {
                                    "0": "1944",
                                    "1": "Human Resources",
                                    "2": "22"
                                },
                                {
                                    "0": "1818",
                                    "1": "Human Resources",
                                    "2": "20"
                                },
                                {
                                    "0": "566",
                                    "1": "Human Resources",
                                    "2": "2"
                                },
                                {
                                    "0": "1842",
                                    "1": "Human Resources",
                                    "2": "18"
                                },
                                {
                                    "0": "608",
                                    "1": "Human Resources",
                                    "2": "17"
                                },
                                {
                                    "0": "1844",
                                    "1": "Human Resources",
                                    "2": "13"
                                },
                                {
                                    "0": "1098",
                                    "1": "Human Resources",
                                    "2": "1"
                                },
                                {
                                    "0": "190",
                                    "1": "Laboratory Technician",
                                    "2": "9"
                                },
                                {
                                    "0": "1807",
                                    "1": "Laboratory Technician",
                                    "2": "9"
                                },
                                {
                                    "0": "1534",
                                    "1": "Laboratory Technician",
                                    "2": "9"
                                },
                                {
                                    "0": "1494",
                                    "1": "Laboratory Technician",
                                    "2": "9"
                                },
                                {
                                    "0": "1684",
                                    "1": "Laboratory Technician",
                                    "2": "8"
                                },
                                {
                                    "0": "1783",
                                    "1": "Laboratory Technician",
                                    "2": "8"
                                },
                                {
                                    "0": "454",
                                    "1": "Laboratory Technician",
                                    "2": "8"
                                },
                                {
                                    "0": "1156",
                                    "1": "Laboratory Technician",
                                    "2": "8"
                                },
                                {
                                    "0": "647",
                                    "1": "Laboratory Technician",
                                    "2": "7"
                                },
                                {
                                    "0": "147",
                                    "1": "Laboratory Technician",
                                    "2": "7"
                                },
                                {
                                    "0": "1649",
                                    "1": "Laboratory Technician",
                                    "2": "7"
                                },
                                {
                                    "0": "1299",
                                    "1": "Laboratory Technician",
                                    "2": "7"
                                },
                                {
                                    "0": "1309",
                                    "1": "Laboratory Technician",
                                    "2": "7"
                                },
                                {
                                    "0": "2032",
                                    "1": "Laboratory Technician",
                                    "2": "7"
                                },
                                {
                                    "0": "137",
                                    "1": "Laboratory Technician",
                                    "2": "6"
                                },
                                {
                                    "0": "811",
                                    "1": "Laboratory Technician",
                                    "2": "6"
                                },
                                {
                                    "0": "932",
                                    "1": "Laboratory Technician",
                                    "2": "6"
                                },
                                {
                                    "0": "1017",
                                    "1": "Laboratory Technician",
                                    "2": "5"
                                },
                                {
                                    "0": "65",
                                    "1": "Laboratory Technician",
                                    "2": "5"
                                },
                                {
                                    "0": "593",
                                    "1": "Laboratory Technician",
                                    "2": "4"
                                },
                                {
                                    "0": "1106",
                                    "1": "Laboratory Technician",
                                    "2": "4"
                                },
                                {
                                    "0": "960",
                                    "1": "Laboratory Technician",
                                    "2": "4"
                                },
                                {
                                    "0": "538",
                                    "1": "Laboratory Technician",
                                    "2": "3"
                                },
                                {
                                    "0": "405",
                                    "1": "Laboratory Technician",
                                    "2": "3"
                                },
                                {
                                    "0": "1333",
                                    "1": "Laboratory Technician",
                                    "2": "3"
                                },
                                {
                                    "0": "355",
                                    "1": "Laboratory Technician",
                                    "2": "29"
                                },
                                {
                                    "0": "1420",
                                    "1": "Laboratory Technician",
                                    "2": "28"
                                },
                                {
                                    "0": "55",
                                    "1": "Laboratory Technician",
                                    "2": "25"
                                },
                                {
                                    "0": "911",
                                    "1": "Laboratory Technician",
                                    "2": "25"
                                },
                                {
                                    "0": "19",
                                    "1": "Laboratory Technician",
                                    "2": "24"
                                },
                                {
                                    "0": "392",
                                    "1": "Laboratory Technician",
                                    "2": "24"
                                },
                                {
                                    "0": "622",
                                    "1": "Laboratory Technician",
                                    "2": "24"
                                },
                                {
                                    "0": "1604",
                                    "1": "Laboratory Technician",
                                    "2": "24"
                                },
                                {
                                    "0": "1907",
                                    "1": "Laboratory Technician",
                                    "2": "24"
                                },
                                {
                                    "0": "1107",
                                    "1": "Laboratory Technician",
                                    "2": "21"
                                },
                                {
                                    "0": "918",
                                    "1": "Laboratory Technician",
                                    "2": "2"
                                },
                                {
                                    "0": "927",
                                    "1": "Laboratory Technician",
                                    "2": "2"
                                },
                                {
                                    "0": "364",
                                    "1": "Laboratory Technician",
                                    "2": "2"
                                },
                                {
                                    "0": "328",
                                    "1": "Laboratory Technician",
                                    "2": "2"
                                },
                                {
                                    "0": "4",
                                    "1": "Laboratory Technician",
                                    "2": "2"
                                },
                                {
                                    "0": "243",
                                    "1": "Laboratory Technician",
                                    "2": "2"
                                },
                                {
                                    "0": "1569",
                                    "1": "Laboratory Technician",
                                    "2": "2"
                                },
                                {
                                    "0": "1692",
                                    "1": "Laboratory Technician",
                                    "2": "2"
                                },
                                {
                                    "0": "1504",
                                    "1": "Laboratory Technician",
                                    "2": "2"
                                },
                                {
                                    "0": "1464",
                                    "1": "Laboratory Technician",
                                    "2": "2"
                                },
                                {
                                    "0": "1458",
                                    "1": "Laboratory Technician",
                                    "2": "2"
                                },
                                {
                                    "0": "1219",
                                    "1": "Laboratory Technician",
                                    "2": "17"
                                },
                                {
                                    "0": "1960",
                                    "1": "Laboratory Technician",
                                    "2": "17"
                                },
                                {
                                    "0": "394",
                                    "1": "Laboratory Technician",
                                    "2": "16"
                                },
                                {
                                    "0": "1042",
                                    "1": "Laboratory Technician",
                                    "2": "16"
                                },
                                {
                                    "0": "1052",
                                    "1": "Laboratory Technician",
                                    "2": "15"
                                },
                                {
                                    "0": "1160",
                                    "1": "Laboratory Technician",
                                    "2": "15"
                                },
                                {
                                    "0": "1010",
                                    "1": "Laboratory Technician",
                                    "2": "14"
                                },
                                {
                                    "0": "325",
                                    "1": "Laboratory Technician",
                                    "2": "14"
                                },
                                {
                                    "0": "1175",
                                    "1": "Laboratory Technician",
                                    "2": "12"
                                },
                                {
                                    "0": "1079",
                                    "1": "Laboratory Technician",
                                    "2": "10"
                                },
                                {
                                    "0": "584",
                                    "1": "Laboratory Technician",
                                    "2": "10"
                                },
                                {
                                    "0": "1279",
                                    "1": "Laboratory Technician",
                                    "2": "10"
                                },
                                {
                                    "0": "816",
                                    "1": "Laboratory Technician",
                                    "2": "1"
                                },
                                {
                                    "0": "1111",
                                    "1": "Laboratory Technician",
                                    "2": "1"
                                },
                                {
                                    "0": "331",
                                    "1": "Laboratory Technician",
                                    "2": "1"
                                },
                                {
                                    "0": "64",
                                    "1": "Laboratory Technician",
                                    "2": "1"
                                },
                                {
                                    "0": "376",
                                    "1": "Manager",
                                    "2": "29"
                                },
                                {
                                    "0": "1038",
                                    "1": "Manager",
                                    "2": "2"
                                },
                                {
                                    "0": "787",
                                    "1": "Manager",
                                    "2": "2"
                                },
                                {
                                    "0": "1277",
                                    "1": "Manager",
                                    "2": "2"
                                },
                                {
                                    "0": "582",
                                    "1": "Manager",
                                    "2": "15"
                                },
                                {
                                    "0": "179",
                                    "1": "Manufacturing Director",
                                    "2": "8"
                                },
                                {
                                    "0": "1360",
                                    "1": "Manufacturing Director",
                                    "2": "7"
                                },
                                {
                                    "0": "926",
                                    "1": "Manufacturing Director",
                                    "2": "3"
                                },
                                {
                                    "0": "261",
                                    "1": "Manufacturing Director",
                                    "2": "23"
                                },
                                {
                                    "0": "1389",
                                    "1": "Manufacturing Director",
                                    "2": "22"
                                },
                                {
                                    "0": "1572",
                                    "1": "Manufacturing Director",
                                    "2": "2"
                                },
                                {
                                    "0": "1573",
                                    "1": "Manufacturing Director",
                                    "2": "2"
                                },
                                {
                                    "0": "1809",
                                    "1": "Manufacturing Director",
                                    "2": "10"
                                },
                                {
                                    "0": "342",
                                    "1": "Manufacturing Director",
                                    "2": "10"
                                },
                                {
                                    "0": "1459",
                                    "1": "Manufacturing Director",
                                    "2": "1"
                                },
                                {
                                    "0": "825",
                                    "1": "Research Director",
                                    "2": "2"
                                },
                                {
                                    "0": "58",
                                    "1": "Research Director",
                                    "2": "12"
                                },
                                {
                                    "0": "90",
                                    "1": "Research Scientist",
                                    "2": "9"
                                },
                                {
                                    "0": "991",
                                    "1": "Research Scientist",
                                    "2": "9"
                                },
                                {
                                    "0": "433",
                                    "1": "Research Scientist",
                                    "2": "8"
                                },
                                {
                                    "0": "1433",
                                    "1": "Research Scientist",
                                    "2": "8"
                                },
                                {
                                    "0": "1878",
                                    "1": "Research Scientist",
                                    "2": "7"
                                },
                                {
                                    "0": "31",
                                    "1": "Research Scientist",
                                    "2": "6"
                                },
                                {
                                    "0": "848",
                                    "1": "Research Scientist",
                                    "2": "5"
                                },
                                {
                                    "0": "1939",
                                    "1": "Research Scientist",
                                    "2": "5"
                                },
                                {
                                    "0": "1210",
                                    "1": "Research Scientist",
                                    "2": "5"
                                },
                                {
                                    "0": "1081",
                                    "1": "Research Scientist",
                                    "2": "4"
                                },
                                {
                                    "0": "514",
                                    "1": "Research Scientist",
                                    "2": "4"
                                },
                                {
                                    "0": "510",
                                    "1": "Research Scientist",
                                    "2": "3"
                                },
                                {
                                    "0": "297",
                                    "1": "Research Scientist",
                                    "2": "3"
                                },
                                {
                                    "0": "1203",
                                    "1": "Research Scientist",
                                    "2": "3"
                                },
                                {
                                    "0": "702",
                                    "1": "Research Scientist",
                                    "2": "3"
                                },
                                {
                                    "0": "1537",
                                    "1": "Research Scientist",
                                    "2": "3"
                                },
                                {
                                    "0": "1101",
                                    "1": "Research Scientist",
                                    "2": "29"
                                },
                                {
                                    "0": "1108",
                                    "1": "Research Scientist",
                                    "2": "25"
                                },
                                {
                                    "0": "881",
                                    "1": "Research Scientist",
                                    "2": "25"
                                },
                                {
                                    "0": "565",
                                    "1": "Research Scientist",
                                    "2": "25"
                                },
                                {
                                    "0": "1868",
                                    "1": "Research Scientist",
                                    "2": "24"
                                },
                                {
                                    "0": "1310",
                                    "1": "Research Scientist",
                                    "2": "23"
                                },
                                {
                                    "0": "1004",
                                    "1": "Research Scientist",
                                    "2": "22"
                                },
                                {
                                    "0": "977",
                                    "1": "Research Scientist",
                                    "2": "2"
                                },
                                {
                                    "0": "1053",
                                    "1": "Research Scientist",
                                    "2": "2"
                                },
                                {
                                    "0": "828",
                                    "1": "Research Scientist",
                                    "2": "2"
                                },
                                {
                                    "0": "440",
                                    "1": "Research Scientist",
                                    "2": "2"
                                },
                                {
                                    "0": "752",
                                    "1": "Research Scientist",
                                    "2": "19"
                                },
                                {
                                    "0": "923",
                                    "1": "Research Scientist",
                                    "2": "18"
                                },
                                {
                                    "0": "315",
                                    "1": "Research Scientist",
                                    "2": "18"
                                },
                                {
                                    "0": "1405",
                                    "1": "Research Scientist",
                                    "2": "17"
                                },
                                {
                                    "0": "1767",
                                    "1": "Research Scientist",
                                    "2": "17"
                                },
                                {
                                    "0": "1905",
                                    "1": "Research Scientist",
                                    "2": "16"
                                },
                                {
                                    "0": "33",
                                    "1": "Research Scientist",
                                    "2": "16"
                                },
                                {
                                    "0": "161",
                                    "1": "Research Scientist",
                                    "2": "14"
                                },
                                {
                                    "0": "1016",
                                    "1": "Research Scientist",
                                    "2": "11"
                                },
                                {
                                    "0": "994",
                                    "1": "Research Scientist",
                                    "2": "10"
                                },
                                {
                                    "0": "1200",
                                    "1": "Research Scientist",
                                    "2": "10"
                                },
                                {
                                    "0": "701",
                                    "1": "Research Scientist",
                                    "2": "10"
                                },
                                {
                                    "0": "1248",
                                    "1": "Research Scientist",
                                    "2": "10"
                                },
                                {
                                    "0": "1522",
                                    "1": "Research Scientist",
                                    "2": "1"
                                },
                                {
                                    "0": "1792",
                                    "1": "Research Scientist",
                                    "2": "1"
                                },
                                {
                                    "0": "2027",
                                    "1": "Research Scientist",
                                    "2": "1"
                                },
                                {
                                    "0": "780",
                                    "1": "Research Scientist",
                                    "2": "1"
                                },
                                {
                                    "0": "741",
                                    "1": "Research Scientist",
                                    "2": "1"
                                },
                                {
                                    "0": "45",
                                    "1": "Research Scientist",
                                    "2": "1"
                                },
                                {
                                    "0": "300",
                                    "1": "Research Scientist",
                                    "2": "1"
                                },
                                {
                                    "0": "118",
                                    "1": "Sales Executive",
                                    "2": "9"
                                },
                                {
                                    "0": "1188",
                                    "1": "Sales Executive",
                                    "2": "9"
                                },
                                {
                                    "0": "1157",
                                    "1": "Sales Executive",
                                    "2": "9"
                                },
                                {
                                    "0": "1716",
                                    "1": "Sales Executive",
                                    "2": "9"
                                },
                                {
                                    "0": "1457",
                                    "1": "Sales Executive",
                                    "2": "9"
                                },
                                {
                                    "0": "723",
                                    "1": "Sales Executive",
                                    "2": "8"
                                },
                                {
                                    "0": "796",
                                    "1": "Sales Executive",
                                    "2": "8"
                                },
                                {
                                    "0": "163",
                                    "1": "Sales Executive",
                                    "2": "6"
                                },
                                {
                                    "0": "142",
                                    "1": "Sales Executive",
                                    "2": "5"
                                },
                                {
                                    "0": "1319",
                                    "1": "Sales Executive",
                                    "2": "5"
                                },
                                {
                                    "0": "291",
                                    "1": "Sales Executive",
                                    "2": "4"
                                },
                                {
                                    "0": "401",
                                    "1": "Sales Executive",
                                    "2": "4"
                                },
                                {
                                    "0": "488",
                                    "1": "Sales Executive",
                                    "2": "4"
                                },
                                {
                                    "0": "1100",
                                    "1": "Sales Executive",
                                    "2": "4"
                                },
                                {
                                    "0": "720",
                                    "1": "Sales Executive",
                                    "2": "3"
                                },
                                {
                                    "0": "967",
                                    "1": "Sales Executive",
                                    "2": "3"
                                },
                                {
                                    "0": "445",
                                    "1": "Sales Executive",
                                    "2": "3"
                                },
                                {
                                    "0": "1037",
                                    "1": "Sales Executive",
                                    "2": "29"
                                },
                                {
                                    "0": "2055",
                                    "1": "Sales Executive",
                                    "2": "28"
                                },
                                {
                                    "0": "1797",
                                    "1": "Sales Executive",
                                    "2": "27"
                                },
                                {
                                    "0": "785",
                                    "1": "Sales Executive",
                                    "2": "27"
                                },
                                {
                                    "0": "283",
                                    "1": "Sales Executive",
                                    "2": "27"
                                },
                                {
                                    "0": "299",
                                    "1": "Sales Executive",
                                    "2": "26"
                                },
                                {
                                    "0": "684",
                                    "1": "Sales Executive",
                                    "2": "26"
                                },
                                {
                                    "0": "1967",
                                    "1": "Sales Executive",
                                    "2": "26"
                                },
                                {
                                    "0": "1318",
                                    "1": "Sales Executive",
                                    "2": "25"
                                },
                                {
                                    "0": "1489",
                                    "1": "Sales Executive",
                                    "2": "24"
                                },
                                {
                                    "0": "1968",
                                    "1": "Sales Executive",
                                    "2": "24"
                                },
                                {
                                    "0": "986",
                                    "1": "Sales Executive",
                                    "2": "24"
                                },
                                {
                                    "0": "1165",
                                    "1": "Sales Executive",
                                    "2": "23"
                                },
                                {
                                    "0": "492",
                                    "1": "Sales Executive",
                                    "2": "22"
                                },
                                {
                                    "0": "175",
                                    "1": "Sales Executive",
                                    "2": "20"
                                },
                                {
                                    "0": "842",
                                    "1": "Sales Executive",
                                    "2": "2"
                                },
                                {
                                    "0": "1862",
                                    "1": "Sales Executive",
                                    "2": "2"
                                },
                                {
                                    "0": "502",
                                    "1": "Sales Executive",
                                    "2": "19"
                                },
                                {
                                    "0": "1380",
                                    "1": "Sales Executive",
                                    "2": "18"
                                },
                                {
                                    "0": "1758",
                                    "1": "Sales Executive",
                                    "2": "16"
                                },
                                {
                                    "0": "1761",
                                    "1": "Sales Executive",
                                    "2": "16"
                                },
                                {
                                    "0": "819",
                                    "1": "Sales Executive",
                                    "2": "16"
                                },
                                {
                                    "0": "1645",
                                    "1": "Sales Executive",
                                    "2": "15"
                                },
                                {
                                    "0": "1933",
                                    "1": "Sales Executive",
                                    "2": "13"
                                },
                                {
                                    "0": "1733",
                                    "1": "Sales Executive",
                                    "2": "13"
                                },
                                {
                                    "0": "1372",
                                    "1": "Sales Executive",
                                    "2": "13"
                                },
                                {
                                    "0": "1487",
                                    "1": "Sales Executive",
                                    "2": "13"
                                },
                                {
                                    "0": "650",
                                    "1": "Sales Executive",
                                    "2": "13"
                                },
                                {
                                    "0": "1167",
                                    "1": "Sales Executive",
                                    "2": "12"
                                },
                                {
                                    "0": "1667",
                                    "1": "Sales Executive",
                                    "2": "12"
                                },
                                {
                                    "0": "840",
                                    "1": "Sales Executive",
                                    "2": "11"
                                },
                                {
                                    "0": "631",
                                    "1": "Sales Executive",
                                    "2": "11"
                                },
                                {
                                    "0": "1639",
                                    "1": "Sales Executive",
                                    "2": "10"
                                },
                                {
                                    "0": "1869",
                                    "1": "Sales Executive",
                                    "2": "10"
                                },
                                {
                                    "0": "2044",
                                    "1": "Sales Executive",
                                    "2": "1"
                                },
                                {
                                    "0": "1562",
                                    "1": "Sales Executive",
                                    "2": "1"
                                },
                                {
                                    "0": "1734",
                                    "1": "Sales Executive",
                                    "2": "1"
                                },
                                {
                                    "0": "1",
                                    "1": "Sales Executive",
                                    "2": "1"
                                },
                                {
                                    "0": "970",
                                    "1": "Sales Executive",
                                    "2": "1"
                                },
                                {
                                    "0": "1113",
                                    "1": "Sales Executive",
                                    "2": "1"
                                },
                                {
                                    "0": "1077",
                                    "1": "Sales Representative",
                                    "2": "9"
                                },
                                {
                                    "0": "27",
                                    "1": "Sales Representative",
                                    "2": "9"
                                },
                                {
                                    "0": "1752",
                                    "1": "Sales Representative",
                                    "2": "9"
                                },
                                {
                                    "0": "1439",
                                    "1": "Sales Representative",
                                    "2": "9"
                                },
                                {
                                    "0": "2023",
                                    "1": "Sales Representative",
                                    "2": "9"
                                },
                                {
                                    "0": "1876",
                                    "1": "Sales Representative",
                                    "2": "9"
                                },
                                {
                                    "0": "1702",
                                    "1": "Sales Representative",
                                    "2": "7"
                                },
                                {
                                    "0": "1780",
                                    "1": "Sales Representative",
                                    "2": "7"
                                },
                                {
                                    "0": "1691",
                                    "1": "Sales Representative",
                                    "2": "7"
                                },
                                {
                                    "0": "555",
                                    "1": "Sales Representative",
                                    "2": "6"
                                },
                                {
                                    "0": "485",
                                    "1": "Sales Representative",
                                    "2": "5"
                                },
                                {
                                    "0": "614",
                                    "1": "Sales Representative",
                                    "2": "5"
                                },
                                {
                                    "0": "42",
                                    "1": "Sales Representative",
                                    "2": "5"
                                },
                                {
                                    "0": "47",
                                    "1": "Sales Representative",
                                    "2": "3"
                                },
                                {
                                    "0": "1624",
                                    "1": "Sales Representative",
                                    "2": "3"
                                },
                                {
                                    "0": "1273",
                                    "1": "Sales Representative",
                                    "2": "24"
                                },
                                {
                                    "0": "1928",
                                    "1": "Sales Representative",
                                    "2": "24"
                                },
                                {
                                    "0": "167",
                                    "1": "Sales Representative",
                                    "2": "22"
                                },
                                {
                                    "0": "959",
                                    "1": "Sales Representative",
                                    "2": "21"
                                },
                                {
                                    "0": "248",
                                    "1": "Sales Representative",
                                    "2": "20"
                                },
                                {
                                    "0": "922",
                                    "1": "Sales Representative",
                                    "2": "2"
                                },
                                {
                                    "0": "667",
                                    "1": "Sales Representative",
                                    "2": "2"
                                },
                                {
                                    "0": "1379",
                                    "1": "Sales Representative",
                                    "2": "2"
                                },
                                {
                                    "0": "952",
                                    "1": "Sales Representative",
                                    "2": "19"
                                },
                                {
                                    "0": "648",
                                    "1": "Sales Representative",
                                    "2": "12"
                                },
                                {
                                    "0": "494",
                                    "1": "Sales Representative",
                                    "2": "12"
                                },
                                {
                                    "0": "478",
                                    "1": "Sales Representative",
                                    "2": "1"
                                },
                                {
                                    "0": "554",
                                    "1": "Sales Representative",
                                    "2": "1"
                                },
                                {
                                    "0": "235",
                                    "1": "Sales Representative",
                                    "2": "1"
                                },
                                {
                                    "0": "896",
                                    "1": "Sales Representative",
                                    "2": "1"
                                },
                                {
                                    "0": "1331",
                                    "1": "Sales Representative",
                                    "2": "1"
                                },
                                {
                                    "0": "1427",
                                    "1": "Sales Representative",
                                    "2": "1"
                                },
                                {
                                    "0": "1486",
                                    "1": "Sales Representative",
                                    "2": "1"
                                }
                            ]
                        },
                        "text/html": "<table><tr><th>employeenumber</th><th>jobrole</th><th>distancefromhome</th></tr><tr><td>282</td><td>Healthcare Representative</td><td>29</td></tr><tr><td>1082</td><td>Healthcare Representative</td><td>24</td></tr><tr><td>165</td><td>Healthcare Representative</td><td>23</td></tr><tr><td>1821</td><td>Healthcare Representative</td><td>21</td></tr><tr><td>587</td><td>Healthcare Representative</td><td>20</td></tr><tr><td>1127</td><td>Healthcare Representative</td><td>2</td></tr><tr><td>1295</td><td>Healthcare Representative</td><td>15</td></tr><tr><td>1421</td><td>Healthcare Representative</td><td>14</td></tr><tr><td>1033</td><td>Healthcare Representative</td><td>11</td></tr><tr><td>1467</td><td>Human Resources</td><td>9</td></tr><tr><td>1747</td><td>Human Resources</td><td>8</td></tr><tr><td>133</td><td>Human Resources</td><td>6</td></tr><tr><td>590</td><td>Human Resources</td><td>23</td></tr><tr><td>1714</td><td>Human Resources</td><td>22</td></tr><tr><td>1944</td><td>Human Resources</td><td>22</td></tr><tr><td>1818</td><td>Human Resources</td><td>20</td></tr><tr><td>566</td><td>Human Resources</td><td>2</td></tr><tr><td>1842</td><td>Human Resources</td><td>18</td></tr><tr><td>608</td><td>Human Resources</td><td>17</td></tr><tr><td>1844</td><td>Human Resources</td><td>13</td></tr><tr><td>1098</td><td>Human Resources</td><td>1</td></tr><tr><td>190</td><td>Laboratory Technician</td><td>9</td></tr><tr><td>1807</td><td>Laboratory Technician</td><td>9</td></tr><tr><td>1534</td><td>Laboratory Technician</td><td>9</td></tr><tr><td>1494</td><td>Laboratory Technician</td><td>9</td></tr><tr><td>1684</td><td>Laboratory Technician</td><td>8</td></tr><tr><td>1783</td><td>Laboratory Technician</td><td>8</td></tr><tr><td>454</td><td>Laboratory Technician</td><td>8</td></tr><tr><td>1156</td><td>Laboratory Technician</td><td>8</td></tr><tr><td>647</td><td>Laboratory Technician</td><td>7</td></tr><tr><td>147</td><td>Laboratory Technician</td><td>7</td></tr><tr><td>1649</td><td>Laboratory Technician</td><td>7</td></tr><tr><td>1299</td><td>Laboratory Technician</td><td>7</td></tr><tr><td>1309</td><td>Laboratory Technician</td><td>7</td></tr><tr><td>2032</td><td>Laboratory Technician</td><td>7</td></tr><tr><td>137</td><td>Laboratory Technician</td><td>6</td></tr><tr><td>811</td><td>Laboratory Technician</td><td>6</td></tr><tr><td>932</td><td>Laboratory Technician</td><td>6</td></tr><tr><td>1017</td><td>Laboratory Technician</td><td>5</td></tr><tr><td>65</td><td>Laboratory Technician</td><td>5</td></tr><tr><td>593</td><td>Laboratory Technician</td><td>4</td></tr><tr><td>1106</td><td>Laboratory Technician</td><td>4</td></tr><tr><td>960</td><td>Laboratory Technician</td><td>4</td></tr><tr><td>538</td><td>Laboratory Technician</td><td>3</td></tr><tr><td>405</td><td>Laboratory Technician</td><td>3</td></tr><tr><td>1333</td><td>Laboratory Technician</td><td>3</td></tr><tr><td>355</td><td>Laboratory Technician</td><td>29</td></tr><tr><td>1420</td><td>Laboratory Technician</td><td>28</td></tr><tr><td>55</td><td>Laboratory Technician</td><td>25</td></tr><tr><td>911</td><td>Laboratory Technician</td><td>25</td></tr><tr><td>19</td><td>Laboratory Technician</td><td>24</td></tr><tr><td>392</td><td>Laboratory Technician</td><td>24</td></tr><tr><td>622</td><td>Laboratory Technician</td><td>24</td></tr><tr><td>1604</td><td>Laboratory Technician</td><td>24</td></tr><tr><td>1907</td><td>Laboratory Technician</td><td>24</td></tr><tr><td>1107</td><td>Laboratory Technician</td><td>21</td></tr><tr><td>918</td><td>Laboratory Technician</td><td>2</td></tr><tr><td>927</td><td>Laboratory Technician</td><td>2</td></tr><tr><td>364</td><td>Laboratory Technician</td><td>2</td></tr><tr><td>328</td><td>Laboratory Technician</td><td>2</td></tr><tr><td>4</td><td>Laboratory Technician</td><td>2</td></tr><tr><td>243</td><td>Laboratory Technician</td><td>2</td></tr><tr><td>1569</td><td>Laboratory Technician</td><td>2</td></tr><tr><td>1692</td><td>Laboratory Technician</td><td>2</td></tr><tr><td>1504</td><td>Laboratory Technician</td><td>2</td></tr><tr><td>1464</td><td>Laboratory Technician</td><td>2</td></tr><tr><td>1458</td><td>Laboratory Technician</td><td>2</td></tr><tr><td>1219</td><td>Laboratory Technician</td><td>17</td></tr><tr><td>1960</td><td>Laboratory Technician</td><td>17</td></tr><tr><td>394</td><td>Laboratory Technician</td><td>16</td></tr><tr><td>1042</td><td>Laboratory Technician</td><td>16</td></tr><tr><td>1052</td><td>Laboratory Technician</td><td>15</td></tr><tr><td>1160</td><td>Laboratory Technician</td><td>15</td></tr><tr><td>1010</td><td>Laboratory Technician</td><td>14</td></tr><tr><td>325</td><td>Laboratory Technician</td><td>14</td></tr><tr><td>1175</td><td>Laboratory Technician</td><td>12</td></tr><tr><td>1079</td><td>Laboratory Technician</td><td>10</td></tr><tr><td>584</td><td>Laboratory Technician</td><td>10</td></tr><tr><td>1279</td><td>Laboratory Technician</td><td>10</td></tr><tr><td>816</td><td>Laboratory Technician</td><td>1</td></tr><tr><td>1111</td><td>Laboratory Technician</td><td>1</td></tr><tr><td>331</td><td>Laboratory Technician</td><td>1</td></tr><tr><td>64</td><td>Laboratory Technician</td><td>1</td></tr><tr><td>376</td><td>Manager</td><td>29</td></tr><tr><td>1038</td><td>Manager</td><td>2</td></tr><tr><td>787</td><td>Manager</td><td>2</td></tr><tr><td>1277</td><td>Manager</td><td>2</td></tr><tr><td>582</td><td>Manager</td><td>15</td></tr><tr><td>179</td><td>Manufacturing Director</td><td>8</td></tr><tr><td>1360</td><td>Manufacturing Director</td><td>7</td></tr><tr><td>926</td><td>Manufacturing Director</td><td>3</td></tr><tr><td>261</td><td>Manufacturing Director</td><td>23</td></tr><tr><td>1389</td><td>Manufacturing Director</td><td>22</td></tr><tr><td>1572</td><td>Manufacturing Director</td><td>2</td></tr><tr><td>1573</td><td>Manufacturing Director</td><td>2</td></tr><tr><td>1809</td><td>Manufacturing Director</td><td>10</td></tr><tr><td>342</td><td>Manufacturing Director</td><td>10</td></tr><tr><td>1459</td><td>Manufacturing Director</td><td>1</td></tr><tr><td>825</td><td>Research Director</td><td>2</td></tr><tr><td>58</td><td>Research Director</td><td>12</td></tr><tr><td>90</td><td>Research Scientist</td><td>9</td></tr><tr><td>991</td><td>Research Scientist</td><td>9</td></tr><tr><td>433</td><td>Research Scientist</td><td>8</td></tr><tr><td>1433</td><td>Research Scientist</td><td>8</td></tr><tr><td>1878</td><td>Research Scientist</td><td>7</td></tr><tr><td>31</td><td>Research Scientist</td><td>6</td></tr><tr><td>848</td><td>Research Scientist</td><td>5</td></tr><tr><td>1939</td><td>Research Scientist</td><td>5</td></tr><tr><td>1210</td><td>Research Scientist</td><td>5</td></tr><tr><td>1081</td><td>Research Scientist</td><td>4</td></tr><tr><td>514</td><td>Research Scientist</td><td>4</td></tr><tr><td>510</td><td>Research Scientist</td><td>3</td></tr><tr><td>297</td><td>Research Scientist</td><td>3</td></tr><tr><td>1203</td><td>Research Scientist</td><td>3</td></tr><tr><td>702</td><td>Research Scientist</td><td>3</td></tr><tr><td>1537</td><td>Research Scientist</td><td>3</td></tr><tr><td>1101</td><td>Research Scientist</td><td>29</td></tr><tr><td>1108</td><td>Research Scientist</td><td>25</td></tr><tr><td>881</td><td>Research Scientist</td><td>25</td></tr><tr><td>565</td><td>Research Scientist</td><td>25</td></tr><tr><td>1868</td><td>Research Scientist</td><td>24</td></tr><tr><td>1310</td><td>Research Scientist</td><td>23</td></tr><tr><td>1004</td><td>Research Scientist</td><td>22</td></tr><tr><td>977</td><td>Research Scientist</td><td>2</td></tr><tr><td>1053</td><td>Research Scientist</td><td>2</td></tr><tr><td>828</td><td>Research Scientist</td><td>2</td></tr><tr><td>440</td><td>Research Scientist</td><td>2</td></tr><tr><td>752</td><td>Research Scientist</td><td>19</td></tr><tr><td>923</td><td>Research Scientist</td><td>18</td></tr><tr><td>315</td><td>Research Scientist</td><td>18</td></tr><tr><td>1405</td><td>Research Scientist</td><td>17</td></tr><tr><td>1767</td><td>Research Scientist</td><td>17</td></tr><tr><td>1905</td><td>Research Scientist</td><td>16</td></tr><tr><td>33</td><td>Research Scientist</td><td>16</td></tr><tr><td>161</td><td>Research Scientist</td><td>14</td></tr><tr><td>1016</td><td>Research Scientist</td><td>11</td></tr><tr><td>994</td><td>Research Scientist</td><td>10</td></tr><tr><td>1200</td><td>Research Scientist</td><td>10</td></tr><tr><td>701</td><td>Research Scientist</td><td>10</td></tr><tr><td>1248</td><td>Research Scientist</td><td>10</td></tr><tr><td>1522</td><td>Research Scientist</td><td>1</td></tr><tr><td>1792</td><td>Research Scientist</td><td>1</td></tr><tr><td>2027</td><td>Research Scientist</td><td>1</td></tr><tr><td>780</td><td>Research Scientist</td><td>1</td></tr><tr><td>741</td><td>Research Scientist</td><td>1</td></tr><tr><td>45</td><td>Research Scientist</td><td>1</td></tr><tr><td>300</td><td>Research Scientist</td><td>1</td></tr><tr><td>118</td><td>Sales Executive</td><td>9</td></tr><tr><td>1188</td><td>Sales Executive</td><td>9</td></tr><tr><td>1157</td><td>Sales Executive</td><td>9</td></tr><tr><td>1716</td><td>Sales Executive</td><td>9</td></tr><tr><td>1457</td><td>Sales Executive</td><td>9</td></tr><tr><td>723</td><td>Sales Executive</td><td>8</td></tr><tr><td>796</td><td>Sales Executive</td><td>8</td></tr><tr><td>163</td><td>Sales Executive</td><td>6</td></tr><tr><td>142</td><td>Sales Executive</td><td>5</td></tr><tr><td>1319</td><td>Sales Executive</td><td>5</td></tr><tr><td>291</td><td>Sales Executive</td><td>4</td></tr><tr><td>401</td><td>Sales Executive</td><td>4</td></tr><tr><td>488</td><td>Sales Executive</td><td>4</td></tr><tr><td>1100</td><td>Sales Executive</td><td>4</td></tr><tr><td>720</td><td>Sales Executive</td><td>3</td></tr><tr><td>967</td><td>Sales Executive</td><td>3</td></tr><tr><td>445</td><td>Sales Executive</td><td>3</td></tr><tr><td>1037</td><td>Sales Executive</td><td>29</td></tr><tr><td>2055</td><td>Sales Executive</td><td>28</td></tr><tr><td>1797</td><td>Sales Executive</td><td>27</td></tr><tr><td>785</td><td>Sales Executive</td><td>27</td></tr><tr><td>283</td><td>Sales Executive</td><td>27</td></tr><tr><td>299</td><td>Sales Executive</td><td>26</td></tr><tr><td>684</td><td>Sales Executive</td><td>26</td></tr><tr><td>1967</td><td>Sales Executive</td><td>26</td></tr><tr><td>1318</td><td>Sales Executive</td><td>25</td></tr><tr><td>1489</td><td>Sales Executive</td><td>24</td></tr><tr><td>1968</td><td>Sales Executive</td><td>24</td></tr><tr><td>986</td><td>Sales Executive</td><td>24</td></tr><tr><td>1165</td><td>Sales Executive</td><td>23</td></tr><tr><td>492</td><td>Sales Executive</td><td>22</td></tr><tr><td>175</td><td>Sales Executive</td><td>20</td></tr><tr><td>842</td><td>Sales Executive</td><td>2</td></tr><tr><td>1862</td><td>Sales Executive</td><td>2</td></tr><tr><td>502</td><td>Sales Executive</td><td>19</td></tr><tr><td>1380</td><td>Sales Executive</td><td>18</td></tr><tr><td>1758</td><td>Sales Executive</td><td>16</td></tr><tr><td>1761</td><td>Sales Executive</td><td>16</td></tr><tr><td>819</td><td>Sales Executive</td><td>16</td></tr><tr><td>1645</td><td>Sales Executive</td><td>15</td></tr><tr><td>1933</td><td>Sales Executive</td><td>13</td></tr><tr><td>1733</td><td>Sales Executive</td><td>13</td></tr><tr><td>1372</td><td>Sales Executive</td><td>13</td></tr><tr><td>1487</td><td>Sales Executive</td><td>13</td></tr><tr><td>650</td><td>Sales Executive</td><td>13</td></tr><tr><td>1167</td><td>Sales Executive</td><td>12</td></tr><tr><td>1667</td><td>Sales Executive</td><td>12</td></tr><tr><td>840</td><td>Sales Executive</td><td>11</td></tr><tr><td>631</td><td>Sales Executive</td><td>11</td></tr><tr><td>1639</td><td>Sales Executive</td><td>10</td></tr><tr><td>1869</td><td>Sales Executive</td><td>10</td></tr><tr><td>2044</td><td>Sales Executive</td><td>1</td></tr><tr><td>1562</td><td>Sales Executive</td><td>1</td></tr><tr><td>1734</td><td>Sales Executive</td><td>1</td></tr><tr><td>1</td><td>Sales Executive</td><td>1</td></tr><tr><td>970</td><td>Sales Executive</td><td>1</td></tr><tr><td>1113</td><td>Sales Executive</td><td>1</td></tr><tr><td>1077</td><td>Sales Representative</td><td>9</td></tr><tr><td>27</td><td>Sales Representative</td><td>9</td></tr><tr><td>1752</td><td>Sales Representative</td><td>9</td></tr><tr><td>1439</td><td>Sales Representative</td><td>9</td></tr><tr><td>2023</td><td>Sales Representative</td><td>9</td></tr><tr><td>1876</td><td>Sales Representative</td><td>9</td></tr><tr><td>1702</td><td>Sales Representative</td><td>7</td></tr><tr><td>1780</td><td>Sales Representative</td><td>7</td></tr><tr><td>1691</td><td>Sales Representative</td><td>7</td></tr><tr><td>555</td><td>Sales Representative</td><td>6</td></tr><tr><td>485</td><td>Sales Representative</td><td>5</td></tr><tr><td>614</td><td>Sales Representative</td><td>5</td></tr><tr><td>42</td><td>Sales Representative</td><td>5</td></tr><tr><td>47</td><td>Sales Representative</td><td>3</td></tr><tr><td>1624</td><td>Sales Representative</td><td>3</td></tr><tr><td>1273</td><td>Sales Representative</td><td>24</td></tr><tr><td>1928</td><td>Sales Representative</td><td>24</td></tr><tr><td>167</td><td>Sales Representative</td><td>22</td></tr><tr><td>959</td><td>Sales Representative</td><td>21</td></tr><tr><td>248</td><td>Sales Representative</td><td>20</td></tr><tr><td>922</td><td>Sales Representative</td><td>2</td></tr><tr><td>667</td><td>Sales Representative</td><td>2</td></tr><tr><td>1379</td><td>Sales Representative</td><td>2</td></tr><tr><td>952</td><td>Sales Representative</td><td>19</td></tr><tr><td>648</td><td>Sales Representative</td><td>12</td></tr><tr><td>494</td><td>Sales Representative</td><td>12</td></tr><tr><td>478</td><td>Sales Representative</td><td>1</td></tr><tr><td>554</td><td>Sales Representative</td><td>1</td></tr><tr><td>235</td><td>Sales Representative</td><td>1</td></tr><tr><td>896</td><td>Sales Representative</td><td>1</td></tr><tr><td>1331</td><td>Sales Representative</td><td>1</td></tr><tr><td>1427</td><td>Sales Representative</td><td>1</td></tr><tr><td>1486</td><td>Sales Representative</td><td>1</td></tr></table>"
                    },
                    "metadata": {}
                }
            ],
            "execution_count": 8
        },
        {
            "cell_type": "code",
            "source": [
                "--What is the average monthly income for those who quit by department?\r\n",
                "SELECT\r\n",
                "\tdepartment,\r\n",
                "\tAVG(CAST(monthlyincome AS INT)) AS Average_Monthly_Income\r\n",
                "FROM Attrition\r\n",
                "WHERE  attrition = 'Yes'\r\n",
                "GROUP BY department;\r\n",
                ""
            ],
            "metadata": {
                "language": "sql",
                "azdata_cell_guid": "c3eb52bb-b593-4562-a596-c28ecb012ede"
            },
            "outputs": [
                {
                    "output_type": "display_data",
                    "data": {
                        "text/html": "(3 rows affected)"
                    },
                    "metadata": {}
                },
                {
                    "output_type": "display_data",
                    "data": {
                        "text/html": "Total execution time: 00:00:00.013"
                    },
                    "metadata": {}
                },
                {
                    "output_type": "execute_result",
                    "execution_count": 9,
                    "data": {
                        "application/vnd.dataresource+json": {
                            "schema": {
                                "fields": [
                                    {
                                        "name": "department"
                                    },
                                    {
                                        "name": "Average_Monthly_Income"
                                    }
                                ]
                            },
                            "data": [
                                {
                                    "0": "Human Resources",
                                    "1": "3715"
                                },
                                {
                                    "0": "Research & Development",
                                    "1": "4108"
                                },
                                {
                                    "0": "Sales",
                                    "1": "5908"
                                }
                            ]
                        },
                        "text/html": "<table><tr><th>department</th><th>Average_Monthly_Income</th></tr><tr><td>Human Resources</td><td>3715</td></tr><tr><td>Research &amp; Development</td><td>4108</td></tr><tr><td>Sales</td><td>5908</td></tr></table>"
                    },
                    "metadata": {}
                }
            ],
            "execution_count": 9
        },
        {
            "cell_type": "code",
            "source": [
                "--Compare average monthly income by education and attrition.\r\n",
                "--Need to convert data type to calculate average; monthlyincome was in varchar(50).\r\n",
                "SELECT\r\n",
                "\teducation,\r\n",
                "\tAVG(CAST(monthlyincome AS INT)) AS Average_Monthly_Income\r\n",
                "FROM Attrition\r\n",
                "WHERE attrition = 'Yes'\r\n",
                "GROUP BY education\r\n",
                "ORDER BY education;"
            ],
            "metadata": {
                "language": "sql",
                "azdata_cell_guid": "774c6c5b-f8d0-4970-b86a-ea31fab9ea24",
                "tags": []
            },
            "outputs": [
                {
                    "output_type": "display_data",
                    "data": {
                        "text/html": "(5 rows affected)"
                    },
                    "metadata": {}
                },
                {
                    "output_type": "display_data",
                    "data": {
                        "text/html": "Total execution time: 00:00:00.008"
                    },
                    "metadata": {}
                },
                {
                    "output_type": "execute_result",
                    "execution_count": 10,
                    "data": {
                        "application/vnd.dataresource+json": {
                            "schema": {
                                "fields": [
                                    {
                                        "name": "education"
                                    },
                                    {
                                        "name": "Average_Monthly_Income"
                                    }
                                ]
                            },
                            "data": [
                                {
                                    "0": "1",
                                    "1": "4360"
                                },
                                {
                                    "0": "2",
                                    "1": "4282"
                                },
                                {
                                    "0": "3",
                                    "1": "4770"
                                },
                                {
                                    "0": "4",
                                    "1": "5335"
                                },
                                {
                                    "0": "5",
                                    "1": "5850"
                                }
                            ]
                        },
                        "text/html": "<table><tr><th>education</th><th>Average_Monthly_Income</th></tr><tr><td>1</td><td>4360</td></tr><tr><td>2</td><td>4282</td></tr><tr><td>3</td><td>4770</td></tr><tr><td>4</td><td>5335</td></tr><tr><td>5</td><td>5850</td></tr></table>"
                    },
                    "metadata": {}
                }
            ],
            "execution_count": 10
        },
        {
            "cell_type": "code",
            "source": [
                "--Which department(s) had attrition? Did they have a proper work-life balance?\r\n",
                "--Need to convert data type to calculate average; worklifebalance was in varchar(50).\r\n",
                "SELECT\r\n",
                "\tdepartment,\r\n",
                "\tCOUNT(department) AS Total_Count,\r\n",
                "\tAVG(CAST(worklifebalance AS INT)) AS Average_Work_Life_Balance\r\n",
                "FROM Attrition\r\n",
                "WHERE attrition = 'Yes'\r\n",
                "GROUP BY department\r\n",
                "ORDER BY department;\r\n",
                ""
            ],
            "metadata": {
                "language": "sql",
                "azdata_cell_guid": "f8385f21-646c-4f1e-a0f5-e351f171e640"
            },
            "outputs": [
                {
                    "output_type": "display_data",
                    "data": {
                        "text/html": "(3 rows affected)"
                    },
                    "metadata": {}
                },
                {
                    "output_type": "display_data",
                    "data": {
                        "text/html": "Total execution time: 00:00:00.009"
                    },
                    "metadata": {}
                },
                {
                    "output_type": "execute_result",
                    "execution_count": 11,
                    "data": {
                        "application/vnd.dataresource+json": {
                            "schema": {
                                "fields": [
                                    {
                                        "name": "department"
                                    },
                                    {
                                        "name": "Total_Count"
                                    },
                                    {
                                        "name": "Average_Work_Life_Balance"
                                    }
                                ]
                            },
                            "data": [
                                {
                                    "0": "Human Resources",
                                    "1": "12",
                                    "2": "2"
                                },
                                {
                                    "0": "Research & Development",
                                    "1": "133",
                                    "2": "2"
                                },
                                {
                                    "0": "Sales",
                                    "1": "92",
                                    "2": "2"
                                }
                            ]
                        },
                        "text/html": "<table><tr><th>department</th><th>Total_Count</th><th>Average_Work_Life_Balance</th></tr><tr><td>Human Resources</td><td>12</td><td>2</td></tr><tr><td>Research &amp; Development</td><td>133</td><td>2</td></tr><tr><td>Sales</td><td>92</td><td>2</td></tr></table>"
                    },
                    "metadata": {}
                }
            ],
            "execution_count": 11
        }
    ]
}